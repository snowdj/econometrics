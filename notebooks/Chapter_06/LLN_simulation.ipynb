{
 "cells": [
  {
   "cell_type": "markdown",
   "metadata": {},
   "source": [
    "# A Primer in Econometric Theory\n",
    "\n",
    "* [John Stachurski](http://johnstachurski.net/index.html)\n",
    "\n",
    "## Simulation to illustrate the LLN"
   ]
  },
  {
   "cell_type": "markdown",
   "metadata": {},
   "source": [
    "This Julia code runs the LLN simulation in chapter 6"
   ]
  },
  {
   "cell_type": "code",
   "execution_count": 1,
   "metadata": {
    "collapsed": false
   },
   "outputs": [
    {
     "name": "stdout",
     "output_type": "stream",
     "text": [
      "14.989714\n"
     ]
    }
   ],
   "source": [
    "\n",
    "num_reps = 10^6\n",
    "outcomes = Array(Float64, num_reps)\n",
    "\n",
    "for i in 1:num_reps\n",
    "    num_tails = num_heads = 0\n",
    "    while num_heads < 10\n",
    "        b = rand()\n",
    "        num_heads = num_heads + (b < 0.4)\n",
    "        num_tails = num_tails + (b >= 0.4)\n",
    "    end\n",
    "    outcomes[i] = num_tails\n",
    "end\n",
    "\n",
    "println(mean(outcomes))\n"
   ]
  },
  {
   "cell_type": "code",
   "execution_count": null,
   "metadata": {
    "collapsed": true
   },
   "outputs": [],
   "source": []
  },
  {
   "cell_type": "code",
   "execution_count": null,
   "metadata": {
    "collapsed": true
   },
   "outputs": [],
   "source": []
  }
 ],
 "metadata": {
  "kernelspec": {
   "display_name": "Julia 0.4.2",
   "language": "julia",
   "name": "julia-0.4"
  },
  "language_info": {
   "file_extension": ".jl",
   "mimetype": "application/julia",
   "name": "julia",
   "version": "0.4.2"
  }
 },
 "nbformat": 4,
 "nbformat_minor": 0
}
