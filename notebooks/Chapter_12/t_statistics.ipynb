{
 "cells": [
  {
   "cell_type": "markdown",
   "metadata": {},
   "source": [
    "# A Primer in Econometric Theory\n",
    "\n",
    "* [John Stachurski](http://johnstachurski.net/index.html)\n",
    "\n",
    "## Calculating t statistics"
   ]
  },
  {
   "cell_type": "markdown",
   "metadata": {},
   "source": [
    "Calculating t statistics manually and using R's `lm` function to make sure we get the same result.  A simulation from chapter 12."
   ]
  },
  {
   "cell_type": "code",
   "execution_count": 5,
   "metadata": {
    "collapsed": false
   },
   "outputs": [
    {
     "name": "stdout",
     "output_type": "stream",
     "text": [
      "t-stat, k = 1 : 3.679102 \n",
      "t-stat, k = 2 : 0.9544745 \n",
      "t-stat, k = 3 : 3.60505 \n"
     ]
    }
   ],
   "source": [
    "set.seed(1234) \n",
    "N <- 50; K <- 3\n",
    "beta <- rep(1, K)\n",
    "X <- cbind(runif(N), runif(N), runif(N))\n",
    "u <- rnorm(N) \n",
    "y <- X %*% beta + u\n",
    "\n",
    "betahat <- solve(t(X) %*% X) %*% t(X) %*% y \n",
    "residuals <- y - X %*% betahat\n",
    "sigmahat <- sqrt(sum(residuals^2) / (N - K))\n",
    "\n",
    "# Compute t-stat (Z-score) for k-th regressor\n",
    "zscore <- function(k) {\n",
    "    se <- sigmahat * sqrt(solve(t(X) %*% X)[k, k])\n",
    "    return(betahat[k] / se)\n",
    "}\n",
    "# Print t-stats\n",
    "for (k in 1:3) {\n",
    "    cat(\"t-stat, k =\", k, \":\", zscore(k), \"\\n\")\n",
    "}\n"
   ]
  },
  {
   "cell_type": "markdown",
   "metadata": {},
   "source": [
    "For comparison, let's compute them using R's `lm` function.  We should get the same t statistics."
   ]
  },
  {
   "cell_type": "code",
   "execution_count": 6,
   "metadata": {
    "collapsed": false
   },
   "outputs": [
    {
     "name": "stdout",
     "output_type": "stream",
     "text": [
      "\n",
      "Call:\n",
      "lm(formula = y ~ X - 1)\n",
      "\n",
      "Residuals:\n",
      "     Min       1Q   Median       3Q      Max \n",
      "-1.54385 -0.52937 -0.06814  0.42911  1.98423 \n",
      "\n",
      "Coefficients:\n",
      "   Estimate Std. Error t value Pr(>|t|)    \n",
      "X1   1.3199     0.3587   3.679 0.000601 ***\n",
      "X2   0.3971     0.4160   0.954 0.344727    \n",
      "X3   1.2492     0.3465   3.605 0.000752 ***\n",
      "---\n",
      "Signif. codes:  0 ‘***’ 0.001 ‘**’ 0.01 ‘*’ 0.05 ‘.’ 0.1 ‘ ’ 1\n",
      "\n",
      "Residual standard error: 0.8522 on 47 degrees of freedom\n",
      "Multiple R-squared:  0.7737,\tAdjusted R-squared:  0.7593 \n",
      "F-statistic: 53.56 on 3 and 47 DF,  p-value: 3.362e-15\n",
      "\n"
     ]
    }
   ],
   "source": [
    "print(summary(lm(y ~ X - 1)))"
   ]
  },
  {
   "cell_type": "code",
   "execution_count": null,
   "metadata": {
    "collapsed": true
   },
   "outputs": [],
   "source": []
  }
 ],
 "metadata": {
  "kernelspec": {
   "display_name": "R",
   "language": "R",
   "name": "ir"
  },
  "language_info": {
   "codemirror_mode": "r",
   "file_extension": ".r",
   "mimetype": "text/x-r-source",
   "name": "R",
   "pygments_lexer": "r",
   "version": "3.2.2"
  }
 },
 "nbformat": 4,
 "nbformat_minor": 0
}
