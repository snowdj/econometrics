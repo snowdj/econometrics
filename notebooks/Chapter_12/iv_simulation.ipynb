{
 "cells": [
  {
   "cell_type": "markdown",
   "metadata": {},
   "source": [
    "# A Primer in Econometric Theory\n",
    "\n",
    "* [John Stachurski](http://johnstachurski.net/index.html)\n",
    "\n",
    "## OLS vs IVLS"
   ]
  },
  {
   "cell_type": "markdown",
   "metadata": {},
   "source": [
    "A simulation comparing IVLS estimation with OLS estimation in the case of endogenous regressors, from chapter 12.  The model is\n",
    "\n",
    "$$\n",
    "y = x \\beta + u\n",
    "$$\n",
    "\n",
    "where $u$ is standard normal.  The instruments $z$ are also scalar valued and standard normal, drawn independently of $u$.  The regressor $x$ is obtained as \n",
    "\n",
    "$$\n",
    "x = \\alpha z + (1 - \\alpha) u\n",
    "$$\n",
    "\n",
    "In the simulation, $\\beta=10$ and $\\alpha=0.8$."
   ]
  },
  {
   "cell_type": "code",
   "execution_count": 6,
   "metadata": {
    "collapsed": false
   },
   "outputs": [],
   "source": [
    "%matplotlib inline"
   ]
  },
  {
   "cell_type": "code",
   "execution_count": 7,
   "metadata": {
    "collapsed": false
   },
   "outputs": [
    {
     "data": {
      "text/plain": [
       "<matplotlib.legend.Legend at 0x7f5f9dba4940>"
      ]
     },
     "execution_count": 7,
     "metadata": {},
     "output_type": "execute_result"
    },
    {
     "data": {
      "image/png": "[encoded data removed]",
      "text/plain": [
       "<matplotlib.figure.Figure at 0x7f5f9d9be358>"
      ]
     },
     "metadata": {},
     "output_type": "display_data"
    }
   ],
   "source": [
    "\n",
    "import numpy as np\n",
    "import matplotlib.pyplot as plt\n",
    "from matplotlib import cm\n",
    "\n",
    "\n",
    "N = 250\n",
    "alpha = 0.8\n",
    "num_reps = 25000\n",
    "beta = 10\n",
    "ols = np.empty(num_reps)\n",
    "ivls = np.empty(num_reps)\n",
    "\n",
    "for j in range(num_reps):\n",
    "    z = np.random.randn(N)\n",
    "    u = np.random.randn(N)\n",
    "    x = alpha * z + (1 - alpha) * u\n",
    "    y = x * beta + u\n",
    "    ols[j]  = np.sum(x * y) / np.sum(x**2)\n",
    "    ivls[j]  = np.sum(z * y) / np.sum(z * x)\n",
    "\n",
    "fig, ax = plt.subplots(figsize=(10, 6.5))\n",
    "plot_args = dict(bins=32, histtype='stepfilled', alpha=0.3, normed=True)\n",
    "ax.set_ylim(0, 6)\n",
    "ax.hist(ols, color='g', label='OLS', **plot_args)\n",
    "ax.hist(ivls, color='b', label='IVLS', **plot_args)\n",
    "ax.plot([beta, beta], [0, 6], 'k-', label=r'$\\beta$')\n",
    "ax.legend(loc='upper left', frameon=False)\n",
    "\n"
   ]
  },
  {
   "cell_type": "code",
   "execution_count": null,
   "metadata": {
    "collapsed": true
   },
   "outputs": [],
   "source": []
  }
 ],
 "metadata": {
  "kernelspec": {
   "display_name": "Python 3",
   "language": "python",
   "name": "python3"
  },
  "language_info": {
   "codemirror_mode": {
    "name": "ipython",
    "version": 3
   },
   "file_extension": ".py",
   "mimetype": "text/x-python",
   "name": "python",
   "nbconvert_exporter": "python",
   "pygments_lexer": "ipython3",
   "version": "3.5.1"
  }
 },
 "nbformat": 4,
 "nbformat_minor": 0
}
