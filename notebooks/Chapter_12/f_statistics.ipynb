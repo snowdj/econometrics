{
 "cells": [
  {
   "cell_type": "markdown",
   "metadata": {},
   "source": [
    "# A Primer in Econometric Theory\n",
    "\n",
    "* [John Stachurski](http://johnstachurski.net/index.html)\n",
    "\n",
    "## Calculating F statistics"
   ]
  },
  {
   "cell_type": "markdown",
   "metadata": {},
   "source": [
    "Calculating F statistics.  A simulation from chapter 12."
   ]
  },
  {
   "cell_type": "code",
   "execution_count": 1,
   "metadata": {
    "collapsed": false
   },
   "outputs": [
    {
     "name": "stdout",
     "output_type": "stream",
     "text": [
      "F = 2.097865 \n"
     ]
    }
   ],
   "source": [
    "set.seed(1234) \n",
    "N <- 50; K <- 3\n",
    "beta <- rep(1, K)\n",
    "x2 <- runif(N); x3 <- runif(N)\n",
    "X <- cbind(rep(1, N), x2, x3)\n",
    "u <- rnorm(N) \n",
    "y <- X %*% beta + u\n",
    "\n",
    "betahat <- solve(t(X) %*% X) %*% t(X) %*% y \n",
    "residuals <- y - X %*% betahat\n",
    "ussr <- sum(residuals^2)\n",
    "rssr <- sum((y - mean(y))^2)\n",
    "\n",
    "Fa <- (rssr - ussr) / 2\n",
    "Fb <- ussr / (N - K)\n",
    "\n",
    "cat(\"F =\", Fa / Fb, \"\\n\")"
   ]
  },
  {
   "cell_type": "markdown",
   "metadata": {},
   "source": [
    "Let's make sure we get the same results using R's `lm` function:"
   ]
  },
  {
   "cell_type": "code",
   "execution_count": 2,
   "metadata": {
    "collapsed": false
   },
   "outputs": [
    {
     "name": "stdout",
     "output_type": "stream",
     "text": [
      "\n",
      "Call:\n",
      "lm(formula = y ~ x2 + x3)\n",
      "\n",
      "Residuals:\n",
      "    Min      1Q  Median      3Q     Max \n",
      "-2.1126 -0.7362 -0.2329  0.6763  2.3330 \n",
      "\n",
      "Coefficients:\n",
      "            Estimate Std. Error t value Pr(>|t|)    \n",
      "(Intercept)   1.3517     0.3602   3.753  0.00048 ***\n",
      "x2            0.7708     0.5724   1.347  0.18457    \n",
      "x3            0.7421     0.5174   1.434  0.15808    \n",
      "---\n",
      "Signif. codes:  0 ‘***’ 0.001 ‘**’ 0.01 ‘*’ 0.05 ‘.’ 0.1 ‘ ’ 1\n",
      "\n",
      "Residual standard error: 1.054 on 47 degrees of freedom\n",
      "Multiple R-squared:  0.08195,\tAdjusted R-squared:  0.04289 \n",
      "F-statistic: 2.098 on 2 and 47 DF,  p-value: 0.1341\n",
      "\n"
     ]
    }
   ],
   "source": [
    "print(summary(lm(y ~ x2 + x3)))"
   ]
  }
 ],
 "metadata": {
  "kernelspec": {
   "display_name": "R",
   "language": "R",
   "name": "ir"
  },
  "language_info": {
   "codemirror_mode": "r",
   "file_extension": ".r",
   "mimetype": "text/x-r-source",
   "name": "R",
   "pygments_lexer": "r",
   "version": "3.2.2"
  }
 },
 "nbformat": 4,
 "nbformat_minor": 0
}
