{
 "cells": [
  {
   "cell_type": "markdown",
   "metadata": {},
   "source": [
    "# A Primer in Econometric Theory\n",
    "\n",
    "* [John Stachurski](http://johnstachurski.net/index.html)\n",
    "\n",
    "## Bias in least squares"
   ]
  },
  {
   "cell_type": "markdown",
   "metadata": {},
   "source": [
    "A simulation showing bias in the estimate of the AR(1) coefficient when using least squares.  From chapter 12."
   ]
  },
  {
   "cell_type": "code",
   "execution_count": 4,
   "metadata": {
    "collapsed": false
   },
   "outputs": [
    {
     "name": "stdout",
     "output_type": "stream",
     "text": [
      "[1] 0.822638\n"
     ]
    }
   ],
   "source": [
    "N <- 20\n",
    "y <- numeric(N)\n",
    "y_zero <- 0\n",
    "beta <- 0.9\n",
    "num.reps <- 10000\n",
    "betahat.obs <- numeric(num.reps)\n",
    "v.obs <- numeric(num.reps)\n",
    " \n",
    "count <- 0\n",
    "for (j in 1:num.reps) { \n",
    "    u <- rnorm(N) \n",
    "    y[1] <- beta * y_zero + u[1]\n",
    "    for (t in 1:(N-1)) {\n",
    "        y[t+1] <- beta * y[t] + u[t+1]\n",
    "    } \n",
    "    x <- c(y_zero, y[-N])  # Lagged y \n",
    "    betahat.obs[j]  <- sum(x * y) / sum(x^2)\n",
    "}   \n",
    "print(mean(betahat.obs))"
   ]
  },
  {
   "cell_type": "code",
   "execution_count": null,
   "metadata": {
    "collapsed": true
   },
   "outputs": [],
   "source": []
  }
 ],
 "metadata": {
  "kernelspec": {
   "display_name": "R",
   "language": "R",
   "name": "ir"
  },
  "language_info": {
   "codemirror_mode": "r",
   "file_extension": ".r",
   "mimetype": "text/x-r-source",
   "name": "R",
   "pygments_lexer": "r",
   "version": "3.2.2"
  }
 },
 "nbformat": 4,
 "nbformat_minor": 0
}
