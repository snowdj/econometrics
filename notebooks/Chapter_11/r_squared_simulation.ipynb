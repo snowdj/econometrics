{
 "cells": [
  {
   "cell_type": "markdown",
   "metadata": {},
   "source": [
    "# A Primer in Econometric Theory\n",
    "\n",
    "* [John Stachurski](http://johnstachurski.net/index.html)\n",
    "\n",
    "## R squared simulation"
   ]
  },
  {
   "cell_type": "markdown",
   "metadata": {},
   "source": [
    "A simulation showing how a high R squared can be obtained even when $x$ and $y$ are independent."
   ]
  },
  {
   "cell_type": "code",
   "execution_count": 3,
   "metadata": {
    "collapsed": false
   },
   "outputs": [
    {
     "name": "stdout",
     "output_type": "stream",
     "text": [
      "K = 1    R^2 = 0.7306501 \n",
      "K = 2    R^2 = 0.7715253 \n",
      "K = 3    R^2 = 0.7739908 \n",
      "K = 4    R^2 = 0.8425753 \n",
      "K = 5    R^2 = 0.8428658 \n",
      "K = 6    R^2 = 0.8646457 \n",
      "K = 7    R^2 = 0.8742801 \n",
      "K = 8    R^2 = 0.874816 \n",
      "K = 9    R^2 = 0.8749332 \n",
      "K = 10    R^2 = 0.8772621 \n",
      "K = 11    R^2 = 0.8792479 \n",
      "K = 12    R^2 = 0.8792479 \n",
      "K = 13    R^2 = 0.9081131 \n",
      "K = 14    R^2 = 0.9081131 \n",
      "K = 15    R^2 = 0.9081131 \n",
      "K = 16    R^2 = 0.9267809 \n",
      "K = 17    R^2 = 0.9267809 \n",
      "K = 18    R^2 = 0.9267809 \n",
      "K = 19    R^2 = 0.9267812 \n",
      "K = 20    R^2 = 0.9267812 \n",
      "K = 21    R^2 = 0.9267812 \n",
      "K = 22    R^2 = 0.9267812 \n",
      "K = 23    R^2 = 0.9267812 \n",
      "K = 24    R^2 = 0.9502513 \n",
      "K = 25    R^2 = 0.9502513 \n"
     ]
    }
   ],
   "source": [
    "set.seed(1234)\n",
    "N <- 25\n",
    "y <- runif(N)\n",
    "x <- runif(N)\n",
    "X <- rep(1, N)\n",
    "\n",
    "Kmax <- 25\n",
    "for (K in 1:Kmax) {\n",
    "    X <- cbind(X, x^K)\n",
    "    results <- lm(y ~ 0 + X)\n",
    "    Py2 <- sum(results$fitted.values^2)\n",
    "    y2 <- sum(y^2)\n",
    "    cat(\"K =\", K, \"   R^2 =\", Py2 / y2, \"\\n\")\n",
    "}\n"
   ]
  }
 ],
 "metadata": {
  "kernelspec": {
   "display_name": "R",
   "language": "R",
   "name": "ir"
  },
  "language_info": {
   "codemirror_mode": "r",
   "file_extension": ".r",
   "mimetype": "text/x-r-source",
   "name": "R",
   "pygments_lexer": "r",
   "version": "3.2.2"
  }
 },
 "nbformat": 4,
 "nbformat_minor": 0
}
