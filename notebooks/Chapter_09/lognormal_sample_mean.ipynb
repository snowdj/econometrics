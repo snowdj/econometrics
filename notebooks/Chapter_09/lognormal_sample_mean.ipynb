{
 "cells": [
  {
   "cell_type": "markdown",
   "metadata": {},
   "source": [
    "# A Primer in Econometric Theory\n",
    "\n",
    "* [John Stachurski](http://johnstachurski.net/index.html)\n",
    "\n",
    "## Lognormal sample mean"
   ]
  },
  {
   "cell_type": "markdown",
   "metadata": {},
   "source": [
    "Sampling distribution of the sample mean of the lognormal distribution, computed by simulation.  From chapter 9."
   ]
  },
  {
   "cell_type": "code",
   "execution_count": 3,
   "metadata": {
    "collapsed": true
   },
   "outputs": [],
   "source": [
    "%matplotlib inline"
   ]
  },
  {
   "cell_type": "code",
   "execution_count": 5,
   "metadata": {
    "collapsed": false
   },
   "outputs": [
    {
     "data": {
      "image/png": "[encoded data removed]",
      "text/plain": [
       "<matplotlib.figure.Figure at 0x7f8e0b493610>"
      ]
     },
     "metadata": {},
     "output_type": "display_data"
    }
   ],
   "source": [
    "\n",
    "import matplotlib.pyplot as plt\n",
    "import numpy as np\n",
    "from scipy.stats import norm\n",
    "\n",
    "v = 1.0\n",
    "true_mean = np.exp(v/2)  # Lognormal case\n",
    "\n",
    "N = 20\n",
    "num_reps = 10000\n",
    "xbar_outcomes = np.empty(num_reps)\n",
    "\n",
    "for i in range(num_reps):\n",
    "    x = norm.rvs(size=N)\n",
    "    x = np.exp(x)\n",
    "    xbar_outcomes[i] = x.mean()\n",
    "\n",
    "\n",
    "fig, ax = plt.subplots(figsize=(10, 8))\n",
    "\n",
    "ax.hist(xbar_outcomes, bins=88, alpha=0.32, normed=True, label='sample mean')\n",
    "ax.vlines([true_mean], [0], [1.0], lw=2, label='true mean')\n",
    "\n",
    "ax.set_xlim(0.5, 4)\n",
    "ax.set_ylim(0, 1)\n",
    "\n",
    "ax.legend()\n",
    "\n",
    "plt.show()\n"
   ]
  },
  {
   "cell_type": "code",
   "execution_count": null,
   "metadata": {
    "collapsed": true
   },
   "outputs": [],
   "source": []
  }
 ],
 "metadata": {
  "kernelspec": {
   "display_name": "Python 3",
   "language": "python",
   "name": "python3"
  },
  "language_info": {
   "codemirror_mode": {
    "name": "ipython",
    "version": 3
   },
   "file_extension": ".py",
   "mimetype": "text/x-python",
   "name": "python",
   "nbconvert_exporter": "python",
   "pygments_lexer": "ipython3",
   "version": "3.5.1"
  }
 },
 "nbformat": 4,
 "nbformat_minor": 0
}
